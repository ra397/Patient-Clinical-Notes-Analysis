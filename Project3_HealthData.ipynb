{
  "nbformat": 4,
  "nbformat_minor": 0,
  "metadata": {
    "colab": {
      "provenance": [],
      "authorship_tag": "ABX9TyMuEJqUW/bXBMLUojpF735f"
    },
    "kernelspec": {
      "name": "python3",
      "display_name": "Python 3"
    },
    "language_info": {
      "name": "python"
    }
  },
  "cells": [
    {
      "cell_type": "code",
      "source": [
        "%%capture\n",
        "!unzip Project3Data.zip"
      ],
      "metadata": {
        "id": "6lO5h18-E-mz"
      },
      "execution_count": 2,
      "outputs": []
    },
    {
      "cell_type": "code",
      "source": [
        "import pandas as pd\n",
        "\n",
        "# Look at a sample clinical note\n",
        "data = pd.read_xml('Project3Data/Project3_data/400-01.xml')\n",
        "\n",
        "data['TEXT'][0]"
      ],
      "metadata": {
        "colab": {
          "base_uri": "https://localhost:8080/",
          "height": 123
        },
        "id": "zmwDKIjaZoN_",
        "outputId": "ab149545-50e0-4336-9f05-f394d5833136"
      },
      "execution_count": 90,
      "outputs": [
        {
          "output_type": "execute_result",
          "data": {
            "text/plain": [
              "'Record date: 2062-06-10\\n\\nMedical Walk In Unit\\n\\nHartsville General Hospital\\n\\n21 Brook St \\n\\nPataskala, RI 33689\\n\\nPhone: 929-462-2794   Fax: 648-875-5821 \\n\\n\\n\\nPCP: \\n\\n\\n\\n\\n\\nNursing Assessment:  \\n\\nWT:    Temp:    P: 100     BP: 190/116\\n\\n\\n\\nReason for visit: Pt just left the EW.  Noted HTN has been off meds for a while.  Was nor given any meds\\n\\n\\n\\nLab Data :\\n\\n\\n\\nAllergies:      \\n\\n\\n\\n\\n\\nMedication: \\n\\noff meds for more than 3 months\\n\\n\\n\\nHistory of the Present Illness:                                \\n\\n59 y/o female here for high blood pressure.  Pt was seen in EW for medications and was given Seroquel, Neurontin, and amytriptyline.  Pt has been out of meds for more than 3 months.\\n\\n\\n\\nPt remembers being atenolol and HCTZ.  Pt plans to come to the medical walk-in tomorrow with all her medications.\\n\\n\\n\\nPt denies HA, visual problems, chest pain, problems with urination.\\n\\n\\n\\nFather had CAD and died at age 55.  Mother died when she was 89 (10 months ago).  Pt never had a heart attack.  Pt never smoked.\\n\\n\\n\\nPertinent PMH:  \\n\\ndiabetes\\n\\nHTN\\n\\nmood disorder\\n\\n\\n\\nPhysical Exam:  \\n\\nGen: NAD\\n\\nVitals: HR 100, BP 200/130 on right arm\\n\\nHeart: reg, no murmur\\n\\nLungs: CTAB\\n\\n\\n\\nAssessment/Plan:\\n\\nhigh blood pressure\\n\\n-- metoprolol 50 po now and then bid\\n\\n-- lisinopril 10 po now and then qd\\n\\n-- follow-up in the EW now to make sure BP is lower before discharge\\n\\n\\n\\nFollow-up:\\n\\nto EW'"
            ],
            "application/vnd.google.colaboratory.intrinsic+json": {
              "type": "string"
            }
          },
          "metadata": {},
          "execution_count": 90
        }
      ]
    },
    {
      "cell_type": "markdown",
      "source": [
        "The goal is to provide a frequency distribution of the vital signs/physical exam readings observed across the patient clinical notes.\n",
        "\n",
        "What are the vital signs/physical exams?\n",
        "*   Blood pressure\n",
        "*   Pulse\n",
        "*   Temperature\n",
        "*   Respitory rate\n",
        "*   Height\n",
        "*   Weight\n",
        "*   Oxygen saturation\n",
        "\n",
        "Since we are analyzing free-text data that is only semi-structured, I read through a bunch of clinical notes and manually extracted aliases for each vital sign.\n",
        "*   Blood pressure: ```[Blood pressure, BP]```\n",
        "*   Pulse: ```[Pulse, P, HR, heart rate]```\n",
        "*   Temperature: ```[Tempreture, T, Temp]```\n",
        "*   Respitory rate: ```[Respitory rate, Respirations, RR, Fs]```\n",
        "*   Height: ```[Height, Ht]```\n",
        "*   Weight: ```[Wt, wgt, none (only a number followed by 'pounds' or 'lbs'), weighing, W.]```\n",
        "*   Oxygen saturation: ```[Oxygen saturation, SaO2, O2 saturation, saturating, Sat, O2 sat, O2sat]```"
      ],
      "metadata": {
        "id": "I3mbnFqxeZEA"
      }
    },
    {
      "cell_type": "code",
      "source": [
        "# Extract the name of all the files to be analyzed\n",
        "file_names = []\n",
        "with open('Project3Data/Project3_data/MIscellaneous/pl.txt', 'r') as f:\n",
        "  for file_name in f:\n",
        "    file_names.append(file_name.rstrip('\\n'))\n",
        "f.close()\n",
        "file_names[0]"
      ],
      "metadata": {
        "id": "HuuBqsAdiQeS",
        "colab": {
          "base_uri": "https://localhost:8080/",
          "height": 36
        },
        "outputId": "cddcec07-522b-4011-d40c-224804441289"
      },
      "execution_count": 93,
      "outputs": [
        {
          "output_type": "execute_result",
          "data": {
            "text/plain": [
              "'100-01.xml'"
            ],
            "application/vnd.google.colaboratory.intrinsic+json": {
              "type": "string"
            }
          },
          "metadata": {},
          "execution_count": 93
        }
      ]
    },
    {
      "cell_type": "code",
      "source": [
        "# Define the aliases and regex patterns for each vital sign\n",
        "patterns = {\n",
        "    'Blood pressure': r'\\b(?:blood pressure|bp)\\b(?:(?!\\b(?:blood pressure|bp|pulse|p\\b|hr|heart rate|temperature|t\\b|temp|respiratory rate|respirations|rr|fs|height|ht|wt|weight|weighing|w\\.|oxygen saturation|sao2|o2 saturation|saturating|sat|o2 sat)\\b).)*?(\\d+/\\d+)',\n",
        "    'Pulse': r'\\b(?:pulse|p\\b|hr|heart rate)\\b(?:(?!\\b(?:blood pressure|bp|pulse|p\\b|hr|heart rate|temperature|t\\b|temp|respiratory rate|respirations|rr|fs|height|ht|wt|weight|weighing|w\\.|oxygen saturation|sao2|o2 saturation|saturating|sat|o2 sat)\\b).)*?(\\d+)',\n",
        "    'Temperature': r'\\b(?:temperature|t\\b|temp)\\b(?:(?!\\b(?:blood pressure|bp|pulse|p\\b|hr|heart rate|temperature|t\\b|temp|respiratory rate|respirations|rr|fs|height|ht|wt|weight|weighing|w\\.|oxygen saturation|sao2|o2 saturation|saturating|sat|o2 sat)\\b).)*?(\\d+(?:\\.\\d+)?)',\n",
        "    'Respiratory rate': r'\\b(?:respiratory rate|respirations|rr|fs)\\b(?:(?!\\b(?:blood pressure|bp|pulse|p\\b|hr|heart rate|temperature|t\\b|temp|respiratory rate|respirations|rr|fs|height|ht|wt|weight|weighing|w\\.|oxygen saturation|sao2|o2 saturation|saturating|sat|o2 sat)\\b).)*?(\\d+)',\n",
        "    'Height': r'\\b(?:height|ht)\\b(?:(?!\\b(?:blood pressure|bp|pulse|p\\b|hr|heart rate|temperature|t\\b|temp|respiratory rate|respirations|rr|fs|height|ht|wt|weight|weighing|w\\.|oxygen saturation|sao2|o2 saturation|saturating|sat|o2 sat)\\b).)*?(\\d+)',\n",
        "    'Weight': r'\\b(?:wt|wgt|weight|weighing|w\\.)\\b(?:(?!\\b(?:blood pressure|bp|pulse|p\\b|hr|heart rate|temperature|t\\b|temp|respiratory rate|respirations|rr|fs|height|ht|wt|weight|weighing|w\\.|oxygen saturation|sao2|o2 saturation|saturating|sat|o2 sat)\\b).)*?(\\d+)',\n",
        "    'Oxygen saturation': r'\\b(?:oxygen saturation|sao2|o2 saturation|saturating|sat|o2 sat|o2sat)\\b(?:(?!\\b(?:blood pressure|bp|pulse|p\\b|hr|heart rate|temperature|t\\b|temp|respiratory rate|respirations|rr|fs|height|ht|wt|weight|weighing|w\\.|oxygen saturation|sao2|o2 saturation|saturating|sat|o2 sat)\\b).)*?(\\d+%)'\n",
        "}"
      ],
      "metadata": {
        "id": "pvkxZcBJIylk"
      },
      "execution_count": 100,
      "outputs": []
    },
    {
      "cell_type": "code",
      "source": [
        "import re\n",
        "\n",
        "for xml_file in file_names[:10]:\n",
        "  clinical_note = pd.read_xml(f'Project3Data/Project3_data/{xml_file}')['TEXT'][0]\n",
        "  print(f'For {xml_file}:')\n",
        "  for sign, pattern in patterns.items():\n",
        "    matches = re.findall(pattern, clinical_note, re.IGNORECASE)\n",
        "    print(f'{sign}: {matches}')\n",
        "  print()"
      ],
      "metadata": {
        "colab": {
          "base_uri": "https://localhost:8080/"
        },
        "id": "cZSvgzu7P4VG",
        "outputId": "44860ff8-2dcb-43e0-8e4d-ac79dc5e9537"
      },
      "execution_count": 101,
      "outputs": [
        {
          "output_type": "stream",
          "name": "stdout",
          "text": [
            "For 100-01.xml:\n",
            "Blood pressure: []\n",
            "Pulse: []\n",
            "Temperature: []\n",
            "Respiratory rate: []\n",
            "Height: []\n",
            "Weight: []\n",
            "Oxygen saturation: []\n",
            "\n",
            "For 100-02.xml:\n",
            "Blood pressure: ['119/90']\n",
            "Pulse: ['82']\n",
            "Temperature: ['97.9', '03']\n",
            "Respiratory rate: []\n",
            "Height: []\n",
            "Weight: []\n",
            "Oxygen saturation: []\n",
            "\n",
            "For 100-03.xml:\n",
            "Blood pressure: ['146/88']\n",
            "Pulse: ['11', '11']\n",
            "Temperature: []\n",
            "Respiratory rate: ['16']\n",
            "Height: []\n",
            "Weight: ['195']\n",
            "Oxygen saturation: []\n",
            "\n",
            "For 100-04.xml:\n",
            "Blood pressure: []\n",
            "Pulse: ['70']\n",
            "Temperature: ['2']\n",
            "Respiratory rate: []\n",
            "Height: []\n",
            "Weight: []\n",
            "Oxygen saturation: []\n",
            "\n",
            "For 100-05.xml:\n",
            "Blood pressure: []\n",
            "Pulse: ['12', '10']\n",
            "Temperature: []\n",
            "Respiratory rate: []\n",
            "Height: []\n",
            "Weight: []\n",
            "Oxygen saturation: []\n",
            "\n",
            "For 101-01.xml:\n",
            "Blood pressure: ['130/80']\n",
            "Pulse: ['68', '108']\n",
            "Temperature: []\n",
            "Respiratory rate: []\n",
            "Height: []\n",
            "Weight: []\n",
            "Oxygen saturation: []\n",
            "\n",
            "For 101-02.xml:\n",
            "Blood pressure: ['146/86']\n",
            "Pulse: ['64']\n",
            "Temperature: []\n",
            "Respiratory rate: ['20']\n",
            "Height: []\n",
            "Weight: []\n",
            "Oxygen saturation: []\n",
            "\n",
            "For 101-03.xml:\n",
            "Blood pressure: []\n",
            "Pulse: ['64']\n",
            "Temperature: []\n",
            "Respiratory rate: ['20']\n",
            "Height: []\n",
            "Weight: ['170']\n",
            "Oxygen saturation: []\n",
            "\n",
            "For 102-01.xml:\n",
            "Blood pressure: ['180/74']\n",
            "Pulse: ['79']\n",
            "Temperature: []\n",
            "Respiratory rate: []\n",
            "Height: ['6']\n",
            "Weight: ['209']\n",
            "Oxygen saturation: ['98%']\n",
            "\n",
            "For 102-02.xml:\n",
            "Blood pressure: ['126/60']\n",
            "Pulse: ['72']\n",
            "Temperature: []\n",
            "Respiratory rate: []\n",
            "Height: []\n",
            "Weight: ['148']\n",
            "Oxygen saturation: []\n",
            "\n"
          ]
        }
      ]
    }
  ]
}