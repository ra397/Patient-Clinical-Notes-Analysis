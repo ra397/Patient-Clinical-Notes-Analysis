{
  "nbformat": 4,
  "nbformat_minor": 0,
  "metadata": {
    "colab": {
      "provenance": [],
      "authorship_tag": "ABX9TyN58CNSC9bl83a1aLTc4ZHb"
    },
    "kernelspec": {
      "name": "python3",
      "display_name": "Python 3"
    },
    "language_info": {
      "name": "python"
    }
  },
  "cells": [
    {
      "cell_type": "code",
      "source": [
        "%%capture\n",
        "!unzip Project3Data.zip"
      ],
      "metadata": {
        "id": "6lO5h18-E-mz"
      },
      "execution_count": 1,
      "outputs": []
    },
    {
      "cell_type": "code",
      "source": [
        "import pandas as pd\n",
        "\n",
        "# Look at a sample clinical note\n",
        "data = pd.read_xml('Project3Data/Project3_data/400-01.xml')\n",
        "\n",
        "data['TEXT'][0]"
      ],
      "metadata": {
        "colab": {
          "base_uri": "https://localhost:8080/",
          "height": 123
        },
        "id": "zmwDKIjaZoN_",
        "outputId": "f03f55b3-c688-42e6-a9b8-6ab1fc6e4840"
      },
      "execution_count": 2,
      "outputs": [
        {
          "output_type": "execute_result",
          "data": {
            "text/plain": [
              "'Record date: 2062-06-10\\n\\nMedical Walk In Unit\\n\\nHartsville General Hospital\\n\\n21 Brook St \\n\\nPataskala, RI 33689\\n\\nPhone: 929-462-2794   Fax: 648-875-5821 \\n\\n\\n\\nPCP: \\n\\n\\n\\n\\n\\nNursing Assessment:  \\n\\nWT:    Temp:    P: 100     BP: 190/116\\n\\n\\n\\nReason for visit: Pt just left the EW.  Noted HTN has been off meds for a while.  Was nor given any meds\\n\\n\\n\\nLab Data :\\n\\n\\n\\nAllergies:      \\n\\n\\n\\n\\n\\nMedication: \\n\\noff meds for more than 3 months\\n\\n\\n\\nHistory of the Present Illness:                                \\n\\n59 y/o female here for high blood pressure.  Pt was seen in EW for medications and was given Seroquel, Neurontin, and amytriptyline.  Pt has been out of meds for more than 3 months.\\n\\n\\n\\nPt remembers being atenolol and HCTZ.  Pt plans to come to the medical walk-in tomorrow with all her medications.\\n\\n\\n\\nPt denies HA, visual problems, chest pain, problems with urination.\\n\\n\\n\\nFather had CAD and died at age 55.  Mother died when she was 89 (10 months ago).  Pt never had a heart attack.  Pt never smoked.\\n\\n\\n\\nPertinent PMH:  \\n\\ndiabetes\\n\\nHTN\\n\\nmood disorder\\n\\n\\n\\nPhysical Exam:  \\n\\nGen: NAD\\n\\nVitals: HR 100, BP 200/130 on right arm\\n\\nHeart: reg, no murmur\\n\\nLungs: CTAB\\n\\n\\n\\nAssessment/Plan:\\n\\nhigh blood pressure\\n\\n-- metoprolol 50 po now and then bid\\n\\n-- lisinopril 10 po now and then qd\\n\\n-- follow-up in the EW now to make sure BP is lower before discharge\\n\\n\\n\\nFollow-up:\\n\\nto EW'"
            ],
            "application/vnd.google.colaboratory.intrinsic+json": {
              "type": "string"
            }
          },
          "metadata": {},
          "execution_count": 2
        }
      ]
    },
    {
      "cell_type": "markdown",
      "source": [
        "The goal is to provide a frequency distribution of the vital signs/physical exam readings observed across the patient clinical notes.\n",
        "\n",
        "What are the vital signs/physical exams?\n",
        "*   Blood pressure\n",
        "*   Pulse\n",
        "*   Temperature\n",
        "*   Respitory rate\n",
        "*   Height\n",
        "*   Weight\n",
        "*   Oxygen saturation\n",
        "\n",
        "Since we are analyzing free-text data that is only semi-structured, I read through a bunch of clinical notes and manually extracted aliases for each vital sign.\n",
        "*   Blood pressure: ```[Blood pressure, BP]```\n",
        "*   Pulse: ```[Pulse, P, HR, heart rate]```\n",
        "*   Temperature: ```[Tempreture, T, Temp]```\n",
        "*   Respitory rate: ```[Respitory rate, Respirations, RR, Fs]```\n",
        "*   Height: ```[Height, Ht]```\n",
        "*   Weight: ```[Wt, wgt, none (only a number followed by 'pounds' or 'lbs'), weighing, W.]```\n",
        "*   Oxygen saturation: ```[Oxygen saturation, SaO2, O2 saturation, saturating, Sat, O2 sat, O2sat]```"
      ],
      "metadata": {
        "id": "I3mbnFqxeZEA"
      }
    },
    {
      "cell_type": "code",
      "source": [
        "# Extract the name of all the files to be analyzed\n",
        "file_names = []\n",
        "with open('Project3Data/Project3_data/MIscellaneous/pl.txt', 'r') as f:\n",
        "  for file_name in f:\n",
        "    file_names.append(file_name.rstrip('\\n'))\n",
        "f.close()\n",
        "file_names[0]"
      ],
      "metadata": {
        "id": "HuuBqsAdiQeS",
        "colab": {
          "base_uri": "https://localhost:8080/",
          "height": 36
        },
        "outputId": "effe69a4-a200-4dfb-d04e-28de20a418e6"
      },
      "execution_count": 3,
      "outputs": [
        {
          "output_type": "execute_result",
          "data": {
            "text/plain": [
              "'100-01.xml'"
            ],
            "application/vnd.google.colaboratory.intrinsic+json": {
              "type": "string"
            }
          },
          "metadata": {},
          "execution_count": 3
        }
      ]
    },
    {
      "cell_type": "code",
      "source": [
        "# Define the aliases and regex patterns for each vital sign\n",
        "patterns = {\n",
        "    'Blood pressure': r'\\b(?:blood pressure|bp)\\b(?:(?!\\b(?:blood pressure|bp|pulse|p\\b|hr|heart rate|temperature|t\\b|temp|respiratory rate|respirations|rr|fs|height|ht|wt|weight|weighing|w\\.|oxygen saturation|sao2|o2 saturation|saturating|sat|o2 sat)\\b).)*?(\\d+/\\d+)',\n",
        "    'Pulse': r'\\b(?:pulse|p\\b|hr|heart rate)\\b\\s*[:\\-]?\\s*(\\d+)',\n",
        "    'Temperature': r'\\b(?:temperature|t\\b|temp)\\b(?:(?!\\b(?:blood pressure|bp|pulse|p\\b|hr|heart rate|temperature|t\\b|temp|respiratory rate|respirations|rr|fs|height|ht|wt|weight|weighing|w\\.|oxygen saturation|sao2|o2 saturation|saturating|sat|o2 sat)\\b).)*?(\\d+(?:\\.\\d+)?)',\n",
        "    'Respiratory rate': r'\\b(?:respiratory rate|respirations|rr|fs)\\b(?:(?!\\b(?:blood pressure|bp|pulse|p\\b|hr|heart rate|temperature|t\\b|temp|respiratory rate|respirations|rr|fs|height|ht|wt|weight|weighing|w\\.|oxygen saturation|sao2|o2 saturation|saturating|sat|o2 sat)\\b).)*?(\\d+)',\n",
        "    'Weight': r'\\b(?:wt|wgt|weight|weighing|w\\.)\\b(?:(?!\\b(?:blood pressure|bp|pulse|p\\b|hr|heart rate|temperature|t\\b|temp|respiratory rate|respirations|rr|fs|height|ht|wt|weight|weighing|w\\.|oxygen saturation|sao2|o2 saturation|saturating|sat|o2 sat)\\b).)*?(\\d+)',\n",
        "    'Oxygen saturation': r'\\b(?:oxygen saturation|sao2|o2 saturation|saturating|sat|o2 sat|o2sat)\\b(?:(?!\\b(?:blood pressure|bp|pulse|p\\b|hr|heart rate|temperature|t\\b|temp|respiratory rate|respirations|rr|fs|height|ht|wt|weight|weighing|w\\.|oxygen saturation|sao2|o2 saturation|saturating|sat|o2 sat)\\b).)*?(\\d+%)'\n",
        "}"
      ],
      "metadata": {
        "id": "pvkxZcBJIylk"
      },
      "execution_count": 28,
      "outputs": []
    },
    {
      "cell_type": "code",
      "source": [
        "# Define the valid ranges for each vital sign\n",
        "valid_ranges = {\n",
        "    'Blood pressure': lambda x: 80 <= int(x.split('/')[0]) <= 180 and 40 <= int(x.split('/')[1]) <= 110,\n",
        "    'Pulse': lambda x: 40 <= int(x) <= 120,\n",
        "    'Temperature': lambda x: 90 <= float(x) <= 110,\n",
        "    'Respiratory rate': lambda x: 8 <= int(x) <= 30,\n",
        "    'Weight': lambda x: 100 <= int(x) <= 400,\n",
        "    'Oxygen saturation': lambda x: 85 <= int(x.rstrip('%')) <= 100\n",
        "}"
      ],
      "metadata": {
        "id": "ZQHZcCp1npVz"
      },
      "execution_count": 29,
      "outputs": []
    },
    {
      "cell_type": "code",
      "source": [
        "# Function to calculate the median\n",
        "def calculate_median(values):\n",
        "    if not values:  # If the list is empty\n",
        "        return None  # or you can return a specific string like 'No valid data'\n",
        "    values.sort()\n",
        "    n = len(values)\n",
        "    if n == 1:\n",
        "        return values[0]  # Only one value, return it directly\n",
        "    elif n % 2 == 1:\n",
        "        return values[n // 2]  # Odd number of values, return the middle one\n",
        "    else:\n",
        "        return (values[n // 2 - 1] + values[n // 2]) / 2  # Even number of values, return the average of the two middle values"
      ],
      "metadata": {
        "id": "hUNlaRlIuJvA"
      },
      "execution_count": 37,
      "outputs": []
    },
    {
      "cell_type": "code",
      "source": [
        "import re\n",
        "\n",
        "vital_signs_data = pd.DataFrame(columns=['filename', 'Blood pressue', 'Pulse', 'Temperature', 'Respiraoty rate', 'Weight', 'Oxygen saturation'])\n",
        "\n",
        "for xml_file in file_names[::100]:\n",
        "  print(f'For {xml_file}:')\n",
        "  clinical_note = pd.read_xml(f'Project3Data/Project3_data/{xml_file}')['TEXT'][0]\n",
        "  for sign, pattern in patterns.items():\n",
        "    matches = re.findall(pattern, clinical_note, re.IGNORECASE)\n",
        "    valid_matches = [match for match in matches if valid_ranges[sign](match)]\n",
        "    if sign == 'Blood pressure':\n",
        "            # Handle blood pressure separately\n",
        "            systolic = [int(bp.split('/')[0]) for bp in valid_matches]\n",
        "            diastolic = [int(bp.split('/')[1]) for bp in valid_matches]\n",
        "            median_systolic = calculate_median(systolic)\n",
        "            median_diastolic = calculate_median(diastolic)\n",
        "            median_bp = f'{median_systolic}/{median_diastolic}'\n",
        "            print(f'  {sign}: {median_bp}')\n",
        "    else:\n",
        "        # Convert matches to numbers for median calculation\n",
        "        if valid_matches:\n",
        "            if sign == 'Oxygen saturation':\n",
        "                valid_matches = [int(match.rstrip('%')) for match in valid_matches]\n",
        "            elif sign == 'Temperature':\n",
        "                valid_matches = [float(match) for match in valid_matches]\n",
        "            else:\n",
        "                valid_matches = [int(match) for match in valid_matches]\n",
        "            median_value = calculate_median(valid_matches)\n",
        "            print(f'  {sign}: {median_value}')\n",
        "        else:\n",
        "            print(f'  {sign}: No valid data')\n",
        "  print()"
      ],
      "metadata": {
        "colab": {
          "base_uri": "https://localhost:8080/"
        },
        "id": "cZSvgzu7P4VG",
        "outputId": "3b9034e6-0f88-431f-f687-48cdee5433ec"
      },
      "execution_count": 40,
      "outputs": [
        {
          "output_type": "stream",
          "name": "stdout",
          "text": [
            "For 100-01.xml:\n",
            "  Blood pressure: None/None\n",
            "  Pulse: No valid data\n",
            "  Temperature: No valid data\n",
            "  Respiratory rate: No valid data\n",
            "  Weight: No valid data\n",
            "  Oxygen saturation: No valid data\n",
            "\n",
            "For 123-01.xml:\n",
            "  Blood pressure: 130/90\n",
            "  Pulse: 64\n",
            "  Temperature: No valid data\n",
            "  Respiratory rate: No valid data\n",
            "  Weight: 170\n",
            "  Oxygen saturation: No valid data\n",
            "\n",
            "For 146-03.xml:\n",
            "  Blood pressure: None/None\n",
            "  Pulse: 65\n",
            "  Temperature: No valid data\n",
            "  Respiratory rate: 14\n",
            "  Weight: No valid data\n",
            "  Oxygen saturation: No valid data\n",
            "\n",
            "For 168-03.xml:\n",
            "  Blood pressure: 135/80\n",
            "  Pulse: 78\n",
            "  Temperature: 97.4\n",
            "  Respiratory rate: 18\n",
            "  Weight: No valid data\n",
            "  Oxygen saturation: 99\n",
            "\n",
            "For 190-01.xml:\n",
            "  Blood pressure: 160/80\n",
            "  Pulse: No valid data\n",
            "  Temperature: No valid data\n",
            "  Respiratory rate: 16\n",
            "  Weight: No valid data\n",
            "  Oxygen saturation: No valid data\n",
            "\n",
            "For 214-01.xml:\n",
            "  Blood pressure: 139.5/66.5\n",
            "  Pulse: 64\n",
            "  Temperature: 95.7\n",
            "  Respiratory rate: No valid data\n",
            "  Weight: 144\n",
            "  Oxygen saturation: No valid data\n",
            "\n",
            "For 236-01.xml:\n",
            "  Blood pressure: 114/50\n",
            "  Pulse: No valid data\n",
            "  Temperature: No valid data\n",
            "  Respiratory rate: No valid data\n",
            "  Weight: 111\n",
            "  Oxygen saturation: No valid data\n",
            "\n",
            "For 260-04.xml:\n",
            "  Blood pressure: 175/46\n",
            "  Pulse: 60\n",
            "  Temperature: 99.2\n",
            "  Respiratory rate: No valid data\n",
            "  Weight: No valid data\n",
            "  Oxygen saturation: No valid data\n",
            "\n",
            "For 285-02.xml:\n",
            "  Blood pressure: 122/80\n",
            "  Pulse: No valid data\n",
            "  Temperature: No valid data\n",
            "  Respiratory rate: No valid data\n",
            "  Weight: 230\n",
            "  Oxygen saturation: No valid data\n",
            "\n",
            "For 307-01.xml:\n",
            "  Blood pressure: 139/81\n",
            "  Pulse: No valid data\n",
            "  Temperature: 97.0\n",
            "  Respiratory rate: 24\n",
            "  Weight: No valid data\n",
            "  Oxygen saturation: No valid data\n",
            "\n",
            "For 329-02.xml:\n",
            "  Blood pressure: 119.0/60.0\n",
            "  Pulse: 66.5\n",
            "  Temperature: 97.5\n",
            "  Respiratory rate: 19.0\n",
            "  Weight: No valid data\n",
            "  Oxygen saturation: No valid data\n",
            "\n",
            "For 352-04.xml:\n",
            "  Blood pressure: 117/57\n",
            "  Pulse: 87\n",
            "  Temperature: No valid data\n",
            "  Respiratory rate: No valid data\n",
            "  Weight: 210\n",
            "  Oxygen saturation: No valid data\n",
            "\n",
            "For 376-01.xml:\n",
            "  Blood pressure: 150.0/75.0\n",
            "  Pulse: No valid data\n",
            "  Temperature: No valid data\n",
            "  Respiratory rate: No valid data\n",
            "  Weight: 187\n",
            "  Oxygen saturation: No valid data\n",
            "\n",
            "For 400-02.xml:\n",
            "  Blood pressure: None/None\n",
            "  Pulse: 81.0\n",
            "  Temperature: 98.3\n",
            "  Respiratory rate: 18\n",
            "  Weight: No valid data\n",
            "  Oxygen saturation: 100\n",
            "\n"
          ]
        }
      ]
    },
    {
      "cell_type": "code",
      "source": [],
      "metadata": {
        "id": "i-w8wYTEocrK"
      },
      "execution_count": null,
      "outputs": []
    }
  ]
}