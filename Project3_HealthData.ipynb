{
  "nbformat": 4,
  "nbformat_minor": 0,
  "metadata": {
    "colab": {
      "provenance": [],
      "authorship_tag": "ABX9TyNuyfCkJkAH3ulhRHVaozcA"
    },
    "kernelspec": {
      "name": "python3",
      "display_name": "Python 3"
    },
    "language_info": {
      "name": "python"
    }
  },
  "cells": [
    {
      "cell_type": "code",
      "source": [
        "%%capture\n",
        "!unzip Project3Data.zip"
      ],
      "metadata": {
        "id": "6lO5h18-E-mz"
      },
      "execution_count": 1,
      "outputs": []
    },
    {
      "cell_type": "code",
      "source": [
        "import pandas as pd\n",
        "\n",
        "# Look at a sample clinical note\n",
        "data = pd.read_xml('Project3Data/Project3_data/400-01.xml')\n",
        "\n",
        "data['TEXT'][0]"
      ],
      "metadata": {
        "colab": {
          "base_uri": "https://localhost:8080/",
          "height": 123
        },
        "id": "zmwDKIjaZoN_",
        "outputId": "f03f55b3-c688-42e6-a9b8-6ab1fc6e4840"
      },
      "execution_count": 2,
      "outputs": [
        {
          "output_type": "execute_result",
          "data": {
            "text/plain": [
              "'Record date: 2062-06-10\\n\\nMedical Walk In Unit\\n\\nHartsville General Hospital\\n\\n21 Brook St \\n\\nPataskala, RI 33689\\n\\nPhone: 929-462-2794   Fax: 648-875-5821 \\n\\n\\n\\nPCP: \\n\\n\\n\\n\\n\\nNursing Assessment:  \\n\\nWT:    Temp:    P: 100     BP: 190/116\\n\\n\\n\\nReason for visit: Pt just left the EW.  Noted HTN has been off meds for a while.  Was nor given any meds\\n\\n\\n\\nLab Data :\\n\\n\\n\\nAllergies:      \\n\\n\\n\\n\\n\\nMedication: \\n\\noff meds for more than 3 months\\n\\n\\n\\nHistory of the Present Illness:                                \\n\\n59 y/o female here for high blood pressure.  Pt was seen in EW for medications and was given Seroquel, Neurontin, and amytriptyline.  Pt has been out of meds for more than 3 months.\\n\\n\\n\\nPt remembers being atenolol and HCTZ.  Pt plans to come to the medical walk-in tomorrow with all her medications.\\n\\n\\n\\nPt denies HA, visual problems, chest pain, problems with urination.\\n\\n\\n\\nFather had CAD and died at age 55.  Mother died when she was 89 (10 months ago).  Pt never had a heart attack.  Pt never smoked.\\n\\n\\n\\nPertinent PMH:  \\n\\ndiabetes\\n\\nHTN\\n\\nmood disorder\\n\\n\\n\\nPhysical Exam:  \\n\\nGen: NAD\\n\\nVitals: HR 100, BP 200/130 on right arm\\n\\nHeart: reg, no murmur\\n\\nLungs: CTAB\\n\\n\\n\\nAssessment/Plan:\\n\\nhigh blood pressure\\n\\n-- metoprolol 50 po now and then bid\\n\\n-- lisinopril 10 po now and then qd\\n\\n-- follow-up in the EW now to make sure BP is lower before discharge\\n\\n\\n\\nFollow-up:\\n\\nto EW'"
            ],
            "application/vnd.google.colaboratory.intrinsic+json": {
              "type": "string"
            }
          },
          "metadata": {},
          "execution_count": 2
        }
      ]
    },
    {
      "cell_type": "markdown",
      "source": [
        "The goal is to provide a frequency distribution of the vital signs/physical exam readings observed across the patient clinical notes.\n",
        "\n",
        "What are the vital signs/physical exams?\n",
        "*   Blood pressure\n",
        "*   Pulse\n",
        "*   Temperature\n",
        "*   Respitory rate\n",
        "*   Height\n",
        "*   Weight\n",
        "*   Oxygen saturation\n",
        "\n",
        "Since we are analyzing free-text data that is only semi-structured, I read through a bunch of clinical notes and manually extracted aliases for each vital sign.\n",
        "*   Blood pressure: ```[Blood pressure, BP]```\n",
        "*   Pulse: ```[Pulse, P, HR, heart rate]```\n",
        "*   Temperature: ```[Tempreture, T, Temp]```\n",
        "*   Respitory rate: ```[Respitory rate, Respirations, RR, Fs]```\n",
        "*   Height: ```[Height, Ht]```\n",
        "*   Weight: ```[Wt, wgt, none (only a number followed by 'pounds' or 'lbs'), weighing, W.]```\n",
        "*   Oxygen saturation: ```[Oxygen saturation, SaO2, O2 saturation, saturating, Sat, O2 sat, O2sat]```"
      ],
      "metadata": {
        "id": "I3mbnFqxeZEA"
      }
    },
    {
      "cell_type": "code",
      "source": [
        "# Extract the name of all the files to be analyzed\n",
        "file_names = []\n",
        "with open('Project3Data/Project3_data/MIscellaneous/pl.txt', 'r') as f:\n",
        "  for file_name in f:\n",
        "    file_names.append(file_name.rstrip('\\n'))\n",
        "f.close()\n",
        "file_names[0]"
      ],
      "metadata": {
        "id": "HuuBqsAdiQeS",
        "colab": {
          "base_uri": "https://localhost:8080/",
          "height": 36
        },
        "outputId": "effe69a4-a200-4dfb-d04e-28de20a418e6"
      },
      "execution_count": 3,
      "outputs": [
        {
          "output_type": "execute_result",
          "data": {
            "text/plain": [
              "'100-01.xml'"
            ],
            "application/vnd.google.colaboratory.intrinsic+json": {
              "type": "string"
            }
          },
          "metadata": {},
          "execution_count": 3
        }
      ]
    },
    {
      "cell_type": "code",
      "source": [
        "# Define the aliases and regex patterns for each vital sign\n",
        "patterns = {\n",
        "    'Blood pressure': r'\\b(?:blood pressure|bp)\\b(?:(?!\\b(?:blood pressure|bp|pulse|p\\b|hr|heart rate|temperature|t\\b|temp|respiratory rate|respirations|rr|fs|height|ht|wt|weight|weighing|w\\.|oxygen saturation|sao2|o2 saturation|saturating|sat|o2 sat)\\b).)*?(\\d+/\\d+)',\n",
        "    'Pulse': r'\\b(?:pulse|p\\b|hr|heart rate)\\b\\s*[:\\-]?\\s*(\\d+)',\n",
        "    'Temperature': r'\\b(?:temperature|t\\b|temp)\\b(?:(?!\\b(?:blood pressure|bp|pulse|p\\b|hr|heart rate|temperature|t\\b|temp|respiratory rate|respirations|rr|fs|height|ht|wt|weight|weighing|w\\.|oxygen saturation|sao2|o2 saturation|saturating|sat|o2 sat)\\b).)*?(\\d+(?:\\.\\d+)?)',\n",
        "    'Respiratory rate': r'\\b(?:respiratory rate|respirations|rr|fs)\\b(?:(?!\\b(?:blood pressure|bp|pulse|p\\b|hr|heart rate|temperature|t\\b|temp|respiratory rate|respirations|rr|fs|height|ht|wt|weight|weighing|w\\.|oxygen saturation|sao2|o2 saturation|saturating|sat|o2 sat)\\b).)*?(\\d+)',\n",
        "    'Height': r'\\b(?:height|ht)\\b(?:(?!\\b(?:blood pressure|bp|pulse|p\\b|hr|heart rate|temperature|t\\b|temp|respiratory rate|respirations|rr|fs|height|ht|wt|weight|weighing|w\\.|oxygen saturation|sao2|o2 saturation|saturating|sat|o2 sat)\\b).)*?(\\d+)',\n",
        "    'Weight': r'\\b(?:wt|wgt|weight|weighing|w\\.)\\b(?:(?!\\b(?:blood pressure|bp|pulse|p\\b|hr|heart rate|temperature|t\\b|temp|respiratory rate|respirations|rr|fs|height|ht|wt|weight|weighing|w\\.|oxygen saturation|sao2|o2 saturation|saturating|sat|o2 sat)\\b).)*?(\\d+)',\n",
        "    'Oxygen saturation': r'\\b(?:oxygen saturation|sao2|o2 saturation|saturating|sat|o2 sat|o2sat)\\b(?:(?!\\b(?:blood pressure|bp|pulse|p\\b|hr|heart rate|temperature|t\\b|temp|respiratory rate|respirations|rr|fs|height|ht|wt|weight|weighing|w\\.|oxygen saturation|sao2|o2 saturation|saturating|sat|o2 sat)\\b).)*?(\\d+%)'\n",
        "}"
      ],
      "metadata": {
        "id": "pvkxZcBJIylk"
      },
      "execution_count": 24,
      "outputs": []
    },
    {
      "cell_type": "code",
      "source": [
        "# Define the valid ranges for each vital sign\n",
        "valid_ranges = {\n",
        "    'Blood pressure': lambda x: 80 <= int(x.split('/')[0]) <= 180 and 40 <= int(x.split('/')[1]) <= 110,\n",
        "    'Pulse': lambda x: 40 <= int(x) <= 120,\n",
        "    'Temperature': lambda x: 90 <= float(x) <= 110,\n",
        "    'Respiratory rate': lambda x: 8 <= int(x) <= 30,\n",
        "    'Height': lambda x: 0 <= int(x) <= 203,\n",
        "    'Weight': lambda x: 100 <= int(x) <= 400,\n",
        "    'Oxygen saturation': lambda x: 85 <= int(x.rstrip('%')) <= 100\n",
        "}"
      ],
      "metadata": {
        "id": "ZQHZcCp1npVz"
      },
      "execution_count": 25,
      "outputs": []
    },
    {
      "cell_type": "code",
      "source": [
        "import re\n",
        "\n",
        "for xml_file in file_names[::50]:\n",
        "  clinical_note = pd.read_xml(f'Project3Data/Project3_data/{xml_file}')['TEXT'][0]\n",
        "  print(f'For {xml_file}:')\n",
        "  for sign, pattern in patterns.items():\n",
        "    matches = re.findall(pattern, clinical_note, re.IGNORECASE)\n",
        "    valid_matches = [match for match in matches if valid_ranges[sign](match)]\n",
        "    print(f'{sign}: {valid_matches}')\n",
        "  print()"
      ],
      "metadata": {
        "colab": {
          "base_uri": "https://localhost:8080/"
        },
        "id": "cZSvgzu7P4VG",
        "outputId": "e33c1d96-6d4e-49a7-e068-22ca420ff3a8"
      },
      "execution_count": 27,
      "outputs": [
        {
          "output_type": "stream",
          "name": "stdout",
          "text": [
            "For 100-01.xml:\n",
            "Blood pressure: []\n",
            "Pulse: []\n",
            "Temperature: []\n",
            "Respiratory rate: []\n",
            "Height: []\n",
            "Weight: []\n",
            "Oxygen saturation: []\n",
            "\n",
            "For 111-04.xml:\n",
            "Blood pressure: []\n",
            "Pulse: []\n",
            "Temperature: ['97.4']\n",
            "Respiratory rate: ['16']\n",
            "Height: []\n",
            "Weight: []\n",
            "Oxygen saturation: ['97%']\n",
            "\n",
            "For 123-01.xml:\n",
            "Blood pressure: ['130/90']\n",
            "Pulse: ['64']\n",
            "Temperature: []\n",
            "Respiratory rate: []\n",
            "Height: []\n",
            "Weight: ['170']\n",
            "Oxygen saturation: []\n",
            "\n",
            "For 134-03.xml:\n",
            "Blood pressure: ['136/70']\n",
            "Pulse: ['72']\n",
            "Temperature: []\n",
            "Respiratory rate: []\n",
            "Height: []\n",
            "Weight: ['174']\n",
            "Oxygen saturation: []\n",
            "\n",
            "For 146-03.xml:\n",
            "Blood pressure: []\n",
            "Pulse: ['65']\n",
            "Temperature: []\n",
            "Respiratory rate: ['14']\n",
            "Height: []\n",
            "Weight: []\n",
            "Oxygen saturation: []\n",
            "\n",
            "For 157-04.xml:\n",
            "Blood pressure: ['144/78']\n",
            "Pulse: []\n",
            "Temperature: []\n",
            "Respiratory rate: []\n",
            "Height: []\n",
            "Weight: ['366']\n",
            "Oxygen saturation: []\n",
            "\n",
            "For 168-03.xml:\n",
            "Blood pressure: ['135/80']\n",
            "Pulse: ['78']\n",
            "Temperature: ['97.4']\n",
            "Respiratory rate: ['18']\n",
            "Height: []\n",
            "Weight: []\n",
            "Oxygen saturation: ['99%']\n",
            "\n",
            "For 179-02.xml:\n",
            "Blood pressure: []\n",
            "Pulse: ['61']\n",
            "Temperature: ['99.2']\n",
            "Respiratory rate: ['18']\n",
            "Height: []\n",
            "Weight: []\n",
            "Oxygen saturation: ['95%']\n",
            "\n",
            "For 190-01.xml:\n",
            "Blood pressure: ['160/80']\n",
            "Pulse: []\n",
            "Temperature: []\n",
            "Respiratory rate: ['16']\n",
            "Height: []\n",
            "Weight: []\n",
            "Oxygen saturation: []\n",
            "\n",
            "For 201-02.xml:\n",
            "Blood pressure: ['106/73', '112/65']\n",
            "Pulse: []\n",
            "Temperature: ['96.8']\n",
            "Respiratory rate: ['18']\n",
            "Height: []\n",
            "Weight: []\n",
            "Oxygen saturation: []\n",
            "\n",
            "For 214-01.xml:\n",
            "Blood pressure: ['154/68', '125/65']\n",
            "Pulse: ['64']\n",
            "Temperature: ['95.7']\n",
            "Respiratory rate: []\n",
            "Height: []\n",
            "Weight: ['144']\n",
            "Oxygen saturation: []\n",
            "\n",
            "For 224-04.xml:\n",
            "Blood pressure: ['140/80']\n",
            "Pulse: ['60']\n",
            "Temperature: []\n",
            "Respiratory rate: []\n",
            "Height: []\n",
            "Weight: ['190']\n",
            "Oxygen saturation: []\n",
            "\n",
            "For 236-01.xml:\n",
            "Blood pressure: ['114/50']\n",
            "Pulse: []\n",
            "Temperature: []\n",
            "Respiratory rate: []\n",
            "Height: []\n",
            "Weight: ['111']\n",
            "Oxygen saturation: []\n",
            "\n",
            "For 249-01.xml:\n",
            "Blood pressure: []\n",
            "Pulse: []\n",
            "Temperature: []\n",
            "Respiratory rate: []\n",
            "Height: []\n",
            "Weight: []\n",
            "Oxygen saturation: []\n",
            "\n",
            "For 260-04.xml:\n",
            "Blood pressure: ['175/46']\n",
            "Pulse: ['60']\n",
            "Temperature: ['99.2']\n",
            "Respiratory rate: []\n",
            "Height: []\n",
            "Weight: []\n",
            "Oxygen saturation: []\n",
            "\n",
            "For 273-04.xml:\n",
            "Blood pressure: ['160/98']\n",
            "Pulse: ['60']\n",
            "Temperature: []\n",
            "Respiratory rate: []\n",
            "Height: []\n",
            "Weight: ['153']\n",
            "Oxygen saturation: []\n",
            "\n",
            "For 285-02.xml:\n",
            "Blood pressure: ['122/80']\n",
            "Pulse: []\n",
            "Temperature: []\n",
            "Respiratory rate: []\n",
            "Height: ['6']\n",
            "Weight: ['230']\n",
            "Oxygen saturation: []\n",
            "\n",
            "For 296-02.xml:\n",
            "Blood pressure: []\n",
            "Pulse: []\n",
            "Temperature: []\n",
            "Respiratory rate: []\n",
            "Height: []\n",
            "Weight: []\n",
            "Oxygen saturation: []\n",
            "\n",
            "For 307-01.xml:\n",
            "Blood pressure: ['139/81']\n",
            "Pulse: []\n",
            "Temperature: ['97']\n",
            "Respiratory rate: ['24']\n",
            "Height: []\n",
            "Weight: []\n",
            "Oxygen saturation: []\n",
            "\n",
            "For 318-02.xml:\n",
            "Blood pressure: ['102/61']\n",
            "Pulse: ['63']\n",
            "Temperature: ['98.2']\n",
            "Respiratory rate: ['20']\n",
            "Height: []\n",
            "Weight: []\n",
            "Oxygen saturation: []\n",
            "\n",
            "For 329-02.xml:\n",
            "Blood pressure: ['98/53', '140/67']\n",
            "Pulse: ['63', '70']\n",
            "Temperature: ['96.4', '98.6']\n",
            "Respiratory rate: ['20', '18']\n",
            "Height: []\n",
            "Weight: []\n",
            "Oxygen saturation: []\n",
            "\n",
            "For 340-04.xml:\n",
            "Blood pressure: []\n",
            "Pulse: ['80']\n",
            "Temperature: ['97.3']\n",
            "Respiratory rate: []\n",
            "Height: []\n",
            "Weight: ['160']\n",
            "Oxygen saturation: []\n",
            "\n",
            "For 352-04.xml:\n",
            "Blood pressure: ['117/57']\n",
            "Pulse: ['87']\n",
            "Temperature: []\n",
            "Respiratory rate: []\n",
            "Height: []\n",
            "Weight: ['210']\n",
            "Oxygen saturation: []\n",
            "\n",
            "For 364-03.xml:\n",
            "Blood pressure: []\n",
            "Pulse: []\n",
            "Temperature: []\n",
            "Respiratory rate: []\n",
            "Height: []\n",
            "Weight: []\n",
            "Oxygen saturation: []\n",
            "\n",
            "For 376-01.xml:\n",
            "Blood pressure: ['130/80', '170/70']\n",
            "Pulse: []\n",
            "Temperature: []\n",
            "Respiratory rate: []\n",
            "Height: []\n",
            "Weight: ['187']\n",
            "Oxygen saturation: []\n",
            "\n",
            "For 387-04.xml:\n",
            "Blood pressure: []\n",
            "Pulse: []\n",
            "Temperature: []\n",
            "Respiratory rate: []\n",
            "Height: []\n",
            "Weight: []\n",
            "Oxygen saturation: []\n",
            "\n",
            "For 400-02.xml:\n",
            "Blood pressure: []\n",
            "Pulse: ['90', '72']\n",
            "Temperature: ['98.3']\n",
            "Respiratory rate: ['18']\n",
            "Height: []\n",
            "Weight: []\n",
            "Oxygen saturation: ['100%']\n",
            "\n"
          ]
        }
      ]
    },
    {
      "cell_type": "code",
      "source": [],
      "metadata": {
        "id": "i-w8wYTEocrK"
      },
      "execution_count": null,
      "outputs": []
    }
  ]
}