{
  "nbformat": 4,
  "nbformat_minor": 0,
  "metadata": {
    "colab": {
      "provenance": [],
      "authorship_tag": "ABX9TyPc4U8+e5Q6fj4D6igitICw"
    },
    "kernelspec": {
      "name": "python3",
      "display_name": "Python 3"
    },
    "language_info": {
      "name": "python"
    }
  },
  "cells": [
    {
      "cell_type": "code",
      "source": [
        "%%capture\n",
        "!unzip Project3Data.zip"
      ],
      "metadata": {
        "id": "6lO5h18-E-mz"
      },
      "execution_count": 2,
      "outputs": []
    },
    {
      "cell_type": "code",
      "source": [
        "import pandas as pd\n",
        "\n",
        "# Look at a sample clinical note\n",
        "data = pd.read_xml('Project3Data/Project3_data/140-05.xml')\n",
        "\n",
        "data['TEXT'][0]"
      ],
      "metadata": {
        "colab": {
          "base_uri": "https://localhost:8080/",
          "height": 244
        },
        "id": "zmwDKIjaZoN_",
        "outputId": "a1b39a46-a83b-4f4e-a1f4-70ea0fbb32fc"
      },
      "execution_count": 70,
      "outputs": [
        {
          "output_type": "execute_result",
          "data": {
            "text/plain": [
              "\"Record date: 2088-02-02\\n\\n Renal Transplant Admission Note\\n\\nDate this visit: 02/02/88\\n\\nCause of ESRD: DM T1\\nDate of this kidney transplant: 9/83\\n\\nCC: SOB/DOE\\n\\nHPI:  48 y/o F h/o ESRD 2/2 DM T1 s/p renal tx 09/83.  Pt. was seen in clinic today with worsening peripheral edema to waist.  She also reports worsening DOE, and some paroxysmal nocturnal dyspnea requiring at least 2 pillows to sleep. She reports worsening of her symptoms over the past week.  She denies n/v/d.   No CP/Abd pain/f/c/s.\\n\\nCurrent immunosuppression:  Tacrolimus 1mg qd, Imuran 50mg qd,  prednisone 5 mg QOD\\nOther meds: Toprol XL 200mg qam, Lasix 20-40mg qd, Felodipine 10mg qd,  valtrex 1,000 mg qod, CaCarb 1250 mg bid, Vit D 800 units qd, Plavix 75 mg qd, Humalog SS, Lantus 10 units qpm, ASA 81 mg qd, Lipitor 20 mg qd, Avapro 75 mg qd, Epo 6000 qweek, Zantac 150mg bid, ferrous gluconate 325mg qd.\\n\\nOther medical problems: \\nESRD 2/2 DM type I s/p renal tx c/b both cellular and humoral rejection.\\nHypertension\\nHyperlipidemia \\nHepatitis C\\nVertigo \\nT Rubrum infection on back 10/2087 - no treatement d/t insurance issues -resolved by itself\\nShingles 2085\\n2 vessel CAD with PTCA and Stent 7/2087\\nSqamous Cell CA- she has had 5 SCCA skin lesions removed in the past 5 years.\\n\\nExam: Weight 138.5 lbs, T 96.7 P68 , BP138/68 mmHg,  O2sat 93%on RA\\nGeneral: WD, WN, WF, mild distress.\\nHEENT: oropharynx clear, neck supple, no LAD, increased JVD.\\nCVS: RRR, normal S1/S2, 3/6 SEM at RUSB\\nLungs:  scant bibasislar rales, no wheezing, no rhonchi\\nAbd: soft, nontender, nondistended\\nAllograft: nontender\\nExt: 3++ bilateral pitting lower ext edema up to waist.\\nNeuro: A&Ox 3, mood okay\\n\\nResults\\nlabs- pending today  \\n\\nA/P:  Ms. Xanders is a 48 y/o F w/ h/o ESRD 2/2 DM type I s/p renal tx c/b both cellular and humoral rejection.  She will be admitted to the Renal Clinic under attending Uriah Aranda  for further evaluation and management.\\n\\n1. Renal- impaired renal function but creatinine has been stable.  Will send urine for 24 hour protein to r/o nephrotic syndrome.\\n2. Immunosupopression- cont. current regimen.  Will follow FK levels and adjust as needed.\\n3. CVS- hypervolemic, hypertensive with significant peripheral edema.  No IVF's.  Will get EKG, CXR, ECHO while in house.\\n4. Pulm-  CHF: will give Lasix 200mg IV bid for diuresis.  Will repeat CXR \\n5. FEN- renal diet\\n6. Labs- CBC w/diff, BMP, LDH, albumin, PO4, tacrolimus level qa.m.\\n\\n_____________________________________________\\nEmma S. Crane,PA-C\\nRenal Clinic\\nbb#78058\\n\\n\\nStaff Note:\\nPatient seen by me: Hx, Ex, A/P confirmed.\\nLandon Neville, MD, Renal Attg\""
            ],
            "application/vnd.google.colaboratory.intrinsic+json": {
              "type": "string"
            }
          },
          "metadata": {},
          "execution_count": 70
        }
      ]
    },
    {
      "cell_type": "markdown",
      "source": [
        "The goal is to provide a frequency distribution of the vital signs/physical exam readings observed across the patient clinical notes.\n",
        "\n",
        "What are the vital signs/physical exams?\n",
        "*   Blood pressure\n",
        "*   Pulse\n",
        "*   Temperature\n",
        "*   Respitory rate\n",
        "*   Height\n",
        "*   Weight\n",
        "*   Oxygen saturation\n",
        "\n",
        "Since we are analyzing free-text data that is only semi-structured, I read through a bunch of clinical notes and manually extracted aliases for each vital sign.\n",
        "*   Blood pressure: ```[Blood pressure, BP]```\n",
        "*   Pulse: ```[Pulse, P, HR, heart rate]```\n",
        "*   Temperature: ```[Tempreture, T, Temp]```\n",
        "*   Respitory rate: ```[Respitory rate, Respirations, RR, Fs]```\n",
        "*   Height: ```[Height, Ht]```\n",
        "*   Weight: ```[Wt, none (only a number followed by 'pounds' or 'lbs'), weighing, W.]```\n",
        "*   Oxygen saturation: ```[Oxygen saturation, SaO2, O2 saturation, saturating, Sat, O2 sat, O2sat]```"
      ],
      "metadata": {
        "id": "I3mbnFqxeZEA"
      }
    },
    {
      "cell_type": "code",
      "source": [
        "# Extract the name of all the files to be analyzed\n",
        "file_names = []\n",
        "with open('Project3Data/Project3_data/MIscellaneous/pl.txt', 'r') as f:\n",
        "  for file_name in f:\n",
        "    file_names.append(file_name.rstrip('\\n'))\n",
        "f.close()"
      ],
      "metadata": {
        "id": "HuuBqsAdiQeS"
      },
      "execution_count": 12,
      "outputs": []
    },
    {
      "cell_type": "code",
      "source": [
        "# Define the aliases and regex patterns for each vital sign\n",
        "patterns = {\n",
        "    'Blood pressure': r'\\b(?:blood pressure|bp)\\b(?:(?!\\b(?:blood pressure|bp|pulse|p\\b|hr|heart rate|temperature|t\\b|temp|respiratory rate|respirations|rr|fs|height|ht|wt|weight|weighing|w\\.|oxygen saturation|sao2|o2 saturation|saturating|sat|o2 sat)\\b).)*?(\\d+/\\d+)',\n",
        "    'Pulse': r'\\b(?:pulse|p\\b|hr|heart rate)\\b(?:(?!\\b(?:blood pressure|bp|pulse|p\\b|hr|heart rate|temperature|t\\b|temp|respiratory rate|respirations|rr|fs|height|ht|wt|weight|weighing|w\\.|oxygen saturation|sao2|o2 saturation|saturating|sat|o2 sat)\\b).)*?(\\d+)',\n",
        "    'Temperature': r'\\b(?:temperature|t\\b|temp)\\b(?:(?!\\b(?:blood pressure|bp|pulse|p\\b|hr|heart rate|temperature|t\\b|temp|respiratory rate|respirations|rr|fs|height|ht|wt|weight|weighing|w\\.|oxygen saturation|sao2|o2 saturation|saturating|sat|o2 sat)\\b).)*?(\\d+(?:\\.\\d+)?)',\n",
        "    'Respiratory rate': r'\\b(?:respiratory rate|respirations|rr|fs)\\b(?:(?!\\b(?:blood pressure|bp|pulse|p\\b|hr|heart rate|temperature|t\\b|temp|respiratory rate|respirations|rr|fs|height|ht|wt|weight|weighing|w\\.|oxygen saturation|sao2|o2 saturation|saturating|sat|o2 sat)\\b).)*?(\\d+)',\n",
        "    'Height': r'\\b(?:height|ht)\\b(?:(?!\\b(?:blood pressure|bp|pulse|p\\b|hr|heart rate|temperature|t\\b|temp|respiratory rate|respirations|rr|fs|height|ht|wt|weight|weighing|w\\.|oxygen saturation|sao2|o2 saturation|saturating|sat|o2 sat)\\b).)*?(\\d+)',\n",
        "    'Weight': r'\\b(?:wt|weight|weighing|w\\.)\\b(?:(?!\\b(?:blood pressure|bp|pulse|p\\b|hr|heart rate|temperature|t\\b|temp|respiratory rate|respirations|rr|fs|height|ht|wt|weight|weighing|w\\.|oxygen saturation|sao2|o2 saturation|saturating|sat|o2 sat)\\b).)*?(\\d+)',\n",
        "    'Oxygen saturation': r'\\b(?:oxygen saturation|sao2|o2 saturation|saturating|sat|o2 sat|o2sat)\\b(?:(?!\\b(?:blood pressure|bp|pulse|p\\b|hr|heart rate|temperature|t\\b|temp|respiratory rate|respirations|rr|fs|height|ht|wt|weight|weighing|w\\.|oxygen saturation|sao2|o2 saturation|saturating|sat|o2 sat)\\b).)*?(\\d+%)'\n",
        "}"
      ],
      "metadata": {
        "id": "pvkxZcBJIylk"
      },
      "execution_count": 72,
      "outputs": []
    },
    {
      "cell_type": "code",
      "source": [
        "import re\n",
        "\n",
        "for sign, pattern in patterns.items():\n",
        "  matches = re.findall(pattern, data['TEXT'][0], re.IGNORECASE)\n",
        "  print(f'{sign}: {matches}')"
      ],
      "metadata": {
        "colab": {
          "base_uri": "https://localhost:8080/"
        },
        "id": "cZSvgzu7P4VG",
        "outputId": "0d5a2299-3ca4-435e-a32f-c0ca5bbaf225"
      },
      "execution_count": 73,
      "outputs": [
        {
          "output_type": "stream",
          "name": "stdout",
          "text": [
            "Blood pressure: []\n",
            "Pulse: ['09', '48']\n",
            "Temperature: ['10', '96.7']\n",
            "Respiratory rate: []\n",
            "Height: []\n",
            "Weight: ['138']\n",
            "Oxygen saturation: ['93%']\n"
          ]
        }
      ]
    }
  ]
}