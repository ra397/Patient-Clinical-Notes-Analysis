{
  "nbformat": 4,
  "nbformat_minor": 0,
  "metadata": {
    "colab": {
      "provenance": [],
      "authorship_tag": "ABX9TyOZ1gPC1WYdNZwlNW+LDpiO"
    },
    "kernelspec": {
      "name": "python3",
      "display_name": "Python 3"
    },
    "language_info": {
      "name": "python"
    }
  },
  "cells": [
    {
      "cell_type": "code",
      "source": [
        "import pandas as pd\n",
        "\n",
        "data = pd.read_xml('Project3_data/100-01.xml')\n",
        "\n",
        "data['TEXT'][0]\n",
        "data['MEDICATION']"
      ],
      "metadata": {
        "colab": {
          "base_uri": "https://localhost:8080/"
        },
        "id": "zmwDKIjaZoN_",
        "outputId": "f109af03-7a38-4927-9f0c-7f5db737e03f"
      },
      "execution_count": 26,
      "outputs": [
        {
          "output_type": "execute_result",
          "data": {
            "text/plain": [
              "0   NaN\n",
              "1   NaN\n",
              "Name: MEDICATION, dtype: float64"
            ]
          },
          "metadata": {},
          "execution_count": 26
        }
      ]
    },
    {
      "cell_type": "markdown",
      "source": [
        "The goal is to provide a frequency distribution of the vital signs/physical exam readings observed across the patient clinical notes.\n",
        "\n",
        "What are vital signs/physical exam readings?\n",
        "*   Blood pressure\n",
        "*   Pulse\n",
        "*   Temperature\n",
        "*   Respitory rate\n",
        "*   Height\n",
        "*   Weight\n",
        "*   SaO2 (measures oxygen saturation in arterial blood in percent)\n",
        "\n",
        "Since we are analyzing free-text data that is only semi-structured, I have found the following aliases for each vital sign.\n",
        "*   Blood pressure: BP\n",
        "*   Pulse: P, HR, heart rate,\n",
        "*   Temperature: T, Temp\n",
        "*   Respitory rate: Respirations, RR, Fs\n",
        "*   Height: Ht\n",
        "*   Weight: Wt, none (only a number followed by 'pounds' or 'lbs'), weighing, W.,\n",
        "*   Oxygen saturation: SaO2, O2 saturation, saturating, Sat, O2 sat"
      ],
      "metadata": {
        "id": "I3mbnFqxeZEA"
      }
    },
    {
      "cell_type": "code",
      "source": [],
      "metadata": {
        "id": "HuuBqsAdiQeS"
      },
      "execution_count": null,
      "outputs": []
    }
  ]
}